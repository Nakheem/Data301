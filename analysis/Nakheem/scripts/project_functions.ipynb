{
 "cells": [
  {
   "cell_type": "code",
   "execution_count": 3,
   "metadata": {},
   "outputs": [],
   "source": [
    "import pandas as pd\n",
    "import numpy as np\n",
    "import pandas_profiling\n",
    "\n",
    "def load_and_process(data):\n",
    "    df = pd.read_csv(data)\n",
    "    blueTeam = (\n",
    "        df.query('blueWins == 1').assign(\n",
    "            KDA = lambda x: x['blueKills'] + x['blueAssists']/x['blueDeaths'],\n",
    "            losingTeamKDA = lambda x: x['blueKills'] + x['blueAssists']/x['blueDeaths']\n",
    "            ).rename(columns={\"blueWardsPlaced\":\"wardsPlaced\",\"blueWardsDestroyed\":\"wardsDestroyed\",\"redWardsPlaced\":\"losingTeamWardsPlaced\",\"redWardsDestroyed\":\"losingTeamWardsDestroyed\",\n",
    "                     \"blueKills\":\"kills\", \"blueDeaths\":\"deaths\",\"blueKDA\":\"KDA\", \"blueDragons\":\"dragonsTaken\",\n",
    "                     \"blueAssits\":\"assits\",\"blueEliteMonsters\":\"eliteMonsters\", \"blueHeralds\":\"heraldsTaken\",\"blueTower\":\"towersTaken\",\"blueTotalGold\":\"totalGold\",\"blueAvgLevel\":\"avgLevel\",\"blueTotalMinionsKilled\":\"totalMinionsKilled\",\n",
    "                     \"blueGoldDiff\":\"goldDiff\",\"blueCSPerMin\":\"csPerMin\",\"redTowersDestoryed\":\"losingTeamTowersDestoried\",\"blueTowersDestoried\":'towerDestoried',\n",
    "                      \"blueAssits\":\"assists\",\"blueExperienceDiff\":\"experienceDiff\",\"redGoldPerMin\":\"losingTeamGoldPerMin\",\"blueTowersDestroyed\":\"towersLost\"\n",
    "                    ,\"blueTotalExperience\":\"totalExperience\",\"blueFirstBlood\":\"firstBlood\",\"redFirstBlood\":\"losingTeamFirstBlood\",\"blueAssists\":\"assists\",\"redAssists\":\"losingTeamAssits\",\"blueGoldPerMin\":\"goldPerMin\",\n",
    "                    \"blueTotalJungleMinionsKilled\":\"totalJungleMinionsKilled\", \"redTotalJungleMinionsKilled\":\"losingTeamTotalJungleMinionsKilled\",\"redKills\":\"losingteamKills\", \"redDeaths\":\"losingTeamDeaths\",\n",
    "                    \"redEliteMonsters\":\"losingTeamEliteMonsters\",\"redDragons\":\"losingTeamDragons\",\"redHeralds\":\"losingTeamHeralds\",\"redTowersDestroyed\":\"losingTeamTowersDestroyed\",\"redTeamGold\":\"losingTeamGold\",\n",
    "                    \"redAvgLevel\":\"losingTeamAvgLevel\",\"redTotalExperience\":\"losingTeamTotalExperience\",\"redTotalMinionsKilled\":\"losingTeamTotalMinionsKilled\",\"redTotalGold\":\"losingTeamTotalGold\",\n",
    "                    \"redGoldDiff\":\"losingTeamGoldDiff\",\"redCSPerMin\":\"losingTeamCSPerMin\",\"redExperienceDiff\":\"losingTeamExperienceDiff\" })\n",
    "        \n",
    "    )\n",
    "    redTeam =(\n",
    "         df.query('blueWins == 0').assign(\n",
    "            KDA = lambda x: x['redKills'] + x['redAssists']/x['redDeaths'],\n",
    "            losingTeamKDA = lambda x: x['blueKills'] + x['blueAssists']/x['blueDeaths']\n",
    "         ).rename(columns={\"redWardsPlaced\":\"wardsPlaced\",\"redWardsDestroyed\":\"wardsDestroyed\",\"blueWardsPlaced\":\"losingTeamWardsPlaced\",\"blueWardsDestroyed\":\"losingTeamWardsDestroyed\",\"redKills\":\"kills\", \"redDeaths\":\"deaths\", \"redDragons\":\"dragonsTaken\",\n",
    "                 \"redAssits\":\"assists\",\"redEliteMonsters\":\"eliteMonsters\", \"redHeralds\":\"heraldsTaken\",\"redTower\":\"towersTaken\",\"redTotalGold\":\"totalGold\",\"redAvgLevel\":\"avgLevel\",\"redTotalMinionsKilled\":\"totalMinionsKilled\",\n",
    "                  \"redGoldDiff\":\"goldDiff\",\"redCSPerMin\":\"csPerMin\",\"redGoldPerMin\":\"goldPerMin\",\"blueTowersDestoried\":'losingTeamTowersDestoried',\"redTowersDestoryed\":'towersLost',\"redExperienceDiff\":\"experienceDiff\",\"blueExperienceDiff\":\"losingTeamExperienceDiff\" ,\n",
    "                 \"blueGoldPerMin\":\"losingTeamGoldPerMin\",\"redTowersTaken\":\"losingTeanTowersTaken\",\"redTotalExperience\":\"totalExperience\",\n",
    "                  \"redAssists\":\"assists\",\"blueAssists\":\"losingTeamAssits\",\"redTowersDestroyed\":\"towersLost\",\"redTotalJungleMinionsKilled\":\"totalJungleMinionsKilled\", \"blueTotalJungleMinionsKilled\":\"losingTeamTotalJungleMinionsKilled\",\n",
    "                  \"blueKills\":\"losingteamKills\", \"blueDeaths\":\"losingTeamDeaths\",\n",
    "                   \"blueEliteMonsters\":\"losingTeamEliteMonsters\",\"blueDragons\":\"losingTeamDragons\",\"blueHeralds\":\"losingTeamHeralds\",\"blueTowersDestroyed\":\"losingTeamTowersDestroyed\",\"blueTeamGold\":\"losingTeamGold\"\n",
    "                   ,\"blueAvgLevel\":\"losingTeamAvgLevel\",\"blueTotalExperience\":\"losingTeamTotalExperience\",\"blueTotalMinionsKilled\":\"losingTeamTotalMinionsKilled\",\n",
    "                   \"blueGoldDiff\":\"losingTeamGoldDiff\",\"blueCSPerMin\":\"losingTeamCSPerMin\",\"blueTotalGold\":\"losingTeamTotalGold\",\"redFirstBlood\":\"firstBlood\",\"blueFirstBlood\":\"losingTeamFirstBlood\"})\n",
    "    )\n",
    "    frames = [blueTeam,redTeam]\n",
    "    df1 = pd.concat(frames)\n",
    "    return df1"
   ]
  }
 ],
 "metadata": {
  "kernelspec": {
   "display_name": "Python 3",
   "language": "python",
   "name": "python3"
  },
  "language_info": {
   "codemirror_mode": {
    "name": "ipython",
    "version": 3
   },
   "file_extension": ".py",
   "mimetype": "text/x-python",
   "name": "python",
   "nbconvert_exporter": "python",
   "pygments_lexer": "ipython3",
   "version": "3.8.3"
  }
 },
 "nbformat": 4,
 "nbformat_minor": 4
}
