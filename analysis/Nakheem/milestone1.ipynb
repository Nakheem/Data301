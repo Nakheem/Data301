{
 "cells": [
  {
   "cell_type": "code",
   "execution_count": 14,
   "metadata": {},
   "outputs": [
    {
     "name": "stdout",
     "output_type": "stream",
     "text": [
      "          gameId  blueWins  blueWardsPlaced  blueWardsDestroyed  \\\n",
      "0     4519157822         0               28                   2   \n",
      "1     4523371949         0               12                   1   \n",
      "2     4521474530         0               15                   0   \n",
      "3     4524384067         0               43                   1   \n",
      "4     4436033771         0               75                   4   \n",
      "...          ...       ...              ...                 ...   \n",
      "9874  4527873286         1               17                   2   \n",
      "9875  4527797466         1               54                   0   \n",
      "9876  4527713716         0               23                   1   \n",
      "9877  4527628313         0               14                   4   \n",
      "9878  4523772935         1               18                   0   \n",
      "\n",
      "      blueFirstBlood  blueKills  blueDeaths  blueAssists  blueEliteMonsters  \\\n",
      "0                  1          9           6           11                  0   \n",
      "1                  0          5           5            5                  0   \n",
      "2                  0          7          11            4                  1   \n",
      "3                  0          4           5            5                  1   \n",
      "4                  0          6           6            6                  0   \n",
      "...              ...        ...         ...          ...                ...   \n",
      "9874               1          7           4            5                  1   \n",
      "9875               0          6           4            8                  1   \n",
      "9876               0          6           7            5                  0   \n",
      "9877               1          2           3            3                  1   \n",
      "9878               1          6           6            5                  0   \n",
      "\n",
      "      blueDragons  ...  redTowersDestroyed  redTotalGold  redAvgLevel  \\\n",
      "0               0  ...                   0         16567          6.8   \n",
      "1               0  ...                   1         17620          6.8   \n",
      "2               1  ...                   0         17285          6.8   \n",
      "3               0  ...                   0         16478          7.0   \n",
      "4               0  ...                   0         17404          7.0   \n",
      "...           ...  ...                 ...           ...          ...   \n",
      "9874            1  ...                   0         15246          6.8   \n",
      "9875            1  ...                   0         15456          7.0   \n",
      "9876            0  ...                   0         18319          7.4   \n",
      "9877            1  ...                   0         15298          7.2   \n",
      "9878            0  ...                   0         15339          6.8   \n",
      "\n",
      "      redTotalExperience  redTotalMinionsKilled  redTotalJungleMinionsKilled  \\\n",
      "0                  17047                    197                           55   \n",
      "1                  17438                    240                           52   \n",
      "2                  17254                    203                           28   \n",
      "3                  17961                    235                           47   \n",
      "4                  18313                    225                           67   \n",
      "...                  ...                    ...                          ...   \n",
      "9874               16498                    229                           34   \n",
      "9875               18367                    206                           56   \n",
      "9876               19909                    261                           60   \n",
      "9877               18314                    247                           40   \n",
      "9878               17379                    201                           46   \n",
      "\n",
      "      redGoldDiff  redExperienceDiff  redCSPerMin  redGoldPerMin  \n",
      "0            -643                  8         19.7         1656.7  \n",
      "1            2908               1173         24.0         1762.0  \n",
      "2            1172               1033         20.3         1728.5  \n",
      "3            1321                  7         23.5         1647.8  \n",
      "4            1004               -230         22.5         1740.4  \n",
      "...           ...                ...          ...            ...  \n",
      "9874        -2519              -2469         22.9         1524.6  \n",
      "9875         -782               -888         20.6         1545.6  \n",
      "9876         2416               1877         26.1         1831.9  \n",
      "9877          839               1085         24.7         1529.8  \n",
      "9878         -927                 58         20.1         1533.9  \n",
      "\n",
      "[9879 rows x 40 columns]\n"
     ]
    }
   ],
   "source": [
    "#load pandas libraries with alias pd\n",
    "import pandas as pd\n",
    "data = pd.read_csv(\"../../data/raw/data.csv\")\n"
   ]
  }
 ],
 "metadata": {
  "kernelspec": {
   "display_name": "Python 3",
   "language": "python",
   "name": "python3"
  },
  "language_info": {
   "codemirror_mode": {
    "name": "ipython",
    "version": 3
   },
   "file_extension": ".py",
   "mimetype": "text/x-python",
   "name": "python",
   "nbconvert_exporter": "python",
   "pygments_lexer": "ipython3",
   "version": "3.8.3"
  }
 },
 "nbformat": 4,
 "nbformat_minor": 4
}
